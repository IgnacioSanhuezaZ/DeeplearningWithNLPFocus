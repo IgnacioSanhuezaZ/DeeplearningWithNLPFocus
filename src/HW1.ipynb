{
 "cells": [
  {
   "cell_type": "markdown",
   "metadata": {
    "id": "ighIhhiLaBtR"
   },
   "source": [
    "## Practical Exercise 1: An Introduction to Word Embeddings and Word2Vec"
   ]
  },
  {
   "cell_type": "markdown",
   "metadata": {
    "id": "QRKl0OAYcvl2"
   },
   "source": [
    "Before we start, we would like to highlight that each of the three notebooks will contribute equally to your final grade.\n",
    "\n",
    "Submission Deadline: December 6th, 2024 at 23:59:00 (strict deadline)"
   ]
  },
  {
   "cell_type": "markdown",
   "metadata": {
    "id": "qCmr1p64aBtW"
   },
   "source": [
    "This practical Exercise is presented as an IPython Notebook, with the code written for recent versions of **Python 3**.\n",
    "\n",
    "Before working with this notebook, you need to execute some of the pre-coded cells (to load libraries/functions/modules etc.). To execute one notebook cell, press `shift-enter`. The return value of the last command will be displayed, if it is not `None`.\n",
    "\n",
    "Below is a list with potentially useful library documentation, references, and resources:\n",
    "\n",
    "* IPython notebooks: <https://ipython.org/ipython-doc/3/notebook/notebook.html#introduction>\n",
    "* Numpy numerical array library: <https://docs.scipy.org/doc/>\n",
    "* Gensim's word2vec: <https://radimrehurek.com/gensim/models/word2vec.html>\n",
    "* Bokeh interactive plots: <http://bokeh.pydata.org/en/latest/> (we provide plotting code here, but click the thumbnails for more examples to copy-paste)\n",
    "* scikit-learn ML library (aka `sklearn`): <http://scikit-learn.org/stable/documentation.html>\n",
    "* nltk NLP toolkit: <http://www.nltk.org/>\n",
    "* tutorial for processing xml in python using `lxml`: <http://lxml.de/tutorial.html> (we did this for you below, but in case you need it in the future)"
   ]
  },
  {
   "cell_type": "markdown",
   "metadata": {
    "id": "3-9ymQ4XRUtG"
   },
   "source": [
    "#### Introduction & imports"
   ]
  },
  {
   "cell_type": "markdown",
   "metadata": {
    "id": "5fOOU1S7cvl8"
   },
   "source": [
    "In this notebook you will familiarize yourselves with constructing and using word-embeddings. As you recall from the lecture, word-embeddings are a type of word representation that allow words with similar meaning to have similar representations. This can be achieved by representing words as real-valued vectors in a predefined vector space. However, before delving into the embedding process, you will need to learn how to use some basic NLP tools like tokenization and regular expressions!\n",
    "Good Luck and happy coding!"
   ]
  },
  {
   "cell_type": "code",
   "execution_count": 2,
   "metadata": {
    "colab": {
     "base_uri": "https://localhost:8080/"
    },
    "id": "569W6MImaBtX",
    "outputId": "269703ae-5fc4-47de-a751-d7f9662a6155",
    "scrolled": true
   },
   "outputs": [
    {
     "ename": "ValueError",
     "evalue": "expected a non-empty sequence of strings, got typing.Literal['replace', 'append', 'intersect', 'subtract', 'xor'] or toggle",
     "output_type": "error",
     "traceback": [
      "\u001b[1;31m---------------------------------------------------------------------------\u001b[0m",
      "\u001b[1;31mValueError\u001b[0m                                Traceback (most recent call last)",
      "Cell \u001b[1;32mIn[2], line 9\u001b[0m\n\u001b[0;32m      6\u001b[0m \u001b[38;5;28;01mimport\u001b[39;00m \u001b[38;5;21;01mre\u001b[39;00m\n\u001b[0;32m      7\u001b[0m \u001b[38;5;28;01mimport\u001b[39;00m \u001b[38;5;21;01mnltk\u001b[39;00m\n\u001b[1;32m----> 9\u001b[0m \u001b[38;5;28;01mfrom\u001b[39;00m \u001b[38;5;21;01mbokeh\u001b[39;00m\u001b[38;5;21;01m.\u001b[39;00m\u001b[38;5;21;01mmodels\u001b[39;00m \u001b[38;5;28;01mimport\u001b[39;00m ColumnDataSource, LabelSet\n\u001b[0;32m     10\u001b[0m \u001b[38;5;28;01mfrom\u001b[39;00m \u001b[38;5;21;01mbokeh\u001b[39;00m\u001b[38;5;21;01m.\u001b[39;00m\u001b[38;5;21;01mplotting\u001b[39;00m \u001b[38;5;28;01mimport\u001b[39;00m figure, show, output_file\n\u001b[0;32m     11\u001b[0m \u001b[38;5;28;01mfrom\u001b[39;00m \u001b[38;5;21;01mbokeh\u001b[39;00m\u001b[38;5;21;01m.\u001b[39;00m\u001b[38;5;21;01mio\u001b[39;00m \u001b[38;5;28;01mimport\u001b[39;00m output_notebook\n",
      "File \u001b[1;32mf:\\archivos de programa\\python3920\\lib\\site-packages\\bokeh\\models\\__init__.py:32\u001b[0m\n\u001b[0;32m     25\u001b[0m log \u001b[38;5;241m=\u001b[39m logging\u001b[38;5;241m.\u001b[39mgetLogger(\u001b[38;5;18m__name__\u001b[39m)\n\u001b[0;32m     27\u001b[0m \u001b[38;5;66;03m#-----------------------------------------------------------------------------\u001b[39;00m\n\u001b[0;32m     28\u001b[0m \u001b[38;5;66;03m# Imports\u001b[39;00m\n\u001b[0;32m     29\u001b[0m \u001b[38;5;66;03m#-----------------------------------------------------------------------------\u001b[39;00m\n\u001b[0;32m     30\u001b[0m \n\u001b[0;32m     31\u001b[0m \u001b[38;5;66;03m# Bokeh imports\u001b[39;00m\n\u001b[1;32m---> 32\u001b[0m \u001b[38;5;28;01mfrom\u001b[39;00m \u001b[38;5;21;01m.\u001b[39;00m\u001b[38;5;21;01m.\u001b[39;00m\u001b[38;5;21;01mmodel\u001b[39;00m \u001b[38;5;28;01mimport\u001b[39;00m Model\n\u001b[0;32m     33\u001b[0m \u001b[38;5;28;01mfrom\u001b[39;00m \u001b[38;5;21;01m.\u001b[39;00m \u001b[38;5;28;01mimport\u001b[39;00m (\n\u001b[0;32m     34\u001b[0m     annotations,\n\u001b[0;32m     35\u001b[0m     axes,\n\u001b[1;32m   (...)\u001b[0m\n\u001b[0;32m     65\u001b[0m     widgets,\n\u001b[0;32m     66\u001b[0m )\n\u001b[0;32m     67\u001b[0m \u001b[38;5;28;01mfrom\u001b[39;00m \u001b[38;5;21;01m.\u001b[39;00m\u001b[38;5;21;01mannotations\u001b[39;00m \u001b[38;5;28;01mimport\u001b[39;00m \u001b[38;5;241m*\u001b[39m\n",
      "File \u001b[1;32mf:\\archivos de programa\\python3920\\lib\\site-packages\\bokeh\\model\\__init__.py:24\u001b[0m\n\u001b[0;32m     17\u001b[0m log \u001b[38;5;241m=\u001b[39m logging\u001b[38;5;241m.\u001b[39mgetLogger(\u001b[38;5;18m__name__\u001b[39m)\n\u001b[0;32m     19\u001b[0m \u001b[38;5;66;03m#-----------------------------------------------------------------------------\u001b[39;00m\n\u001b[0;32m     20\u001b[0m \u001b[38;5;66;03m# Imports\u001b[39;00m\n\u001b[0;32m     21\u001b[0m \u001b[38;5;66;03m#-----------------------------------------------------------------------------\u001b[39;00m\n\u001b[0;32m     22\u001b[0m \n\u001b[0;32m     23\u001b[0m \u001b[38;5;66;03m# Bokeh imports\u001b[39;00m\n\u001b[1;32m---> 24\u001b[0m \u001b[38;5;28;01mfrom\u001b[39;00m \u001b[38;5;21;01m.\u001b[39;00m\u001b[38;5;21;01mdata_model\u001b[39;00m \u001b[38;5;28;01mimport\u001b[39;00m DataModel\n\u001b[0;32m     25\u001b[0m \u001b[38;5;28;01mfrom\u001b[39;00m \u001b[38;5;21;01m.\u001b[39;00m\u001b[38;5;21;01mmodel\u001b[39;00m \u001b[38;5;28;01mimport\u001b[39;00m Model\n\u001b[0;32m     26\u001b[0m \u001b[38;5;28;01mfrom\u001b[39;00m \u001b[38;5;21;01m.\u001b[39;00m\u001b[38;5;21;01mutil\u001b[39;00m \u001b[38;5;28;01mimport\u001b[39;00m Qualified, collect_models, get_class\n",
      "File \u001b[1;32mf:\\archivos de programa\\python3920\\lib\\site-packages\\bokeh\\model\\data_model.py:25\u001b[0m\n\u001b[0;32m     19\u001b[0m \u001b[38;5;66;03m#-----------------------------------------------------------------------------\u001b[39;00m\n\u001b[0;32m     20\u001b[0m \u001b[38;5;66;03m# Imports\u001b[39;00m\n\u001b[0;32m     21\u001b[0m \u001b[38;5;66;03m#-----------------------------------------------------------------------------\u001b[39;00m\n\u001b[0;32m     22\u001b[0m \n\u001b[0;32m     23\u001b[0m \u001b[38;5;66;03m# Bokeh imports\u001b[39;00m\n\u001b[0;32m     24\u001b[0m \u001b[38;5;28;01mfrom\u001b[39;00m \u001b[38;5;21;01m.\u001b[39;00m\u001b[38;5;21;01m.\u001b[39;00m\u001b[38;5;21;01mcore\u001b[39;00m\u001b[38;5;21;01m.\u001b[39;00m\u001b[38;5;21;01mhas_props\u001b[39;00m \u001b[38;5;28;01mimport\u001b[39;00m abstract\n\u001b[1;32m---> 25\u001b[0m \u001b[38;5;28;01mfrom\u001b[39;00m \u001b[38;5;21;01m.\u001b[39;00m\u001b[38;5;21;01mmodel\u001b[39;00m \u001b[38;5;28;01mimport\u001b[39;00m Model\n\u001b[0;32m     27\u001b[0m \u001b[38;5;66;03m#-----------------------------------------------------------------------------\u001b[39;00m\n\u001b[0;32m     28\u001b[0m \u001b[38;5;66;03m# Globals and constants\u001b[39;00m\n\u001b[0;32m     29\u001b[0m \u001b[38;5;66;03m#-----------------------------------------------------------------------------\u001b[39;00m\n\u001b[0;32m     31\u001b[0m __all__ \u001b[38;5;241m=\u001b[39m (\n\u001b[0;32m     32\u001b[0m     \u001b[38;5;124m'\u001b[39m\u001b[38;5;124mDataModel\u001b[39m\u001b[38;5;124m'\u001b[39m,\n\u001b[0;32m     33\u001b[0m )\n",
      "File \u001b[1;32mf:\\archivos de programa\\python3920\\lib\\site-packages\\bokeh\\model\\model.py:28\u001b[0m\n\u001b[0;32m     25\u001b[0m \u001b[38;5;28;01mfrom\u001b[39;00m \u001b[38;5;21;01mtyping\u001b[39;00m \u001b[38;5;28;01mimport\u001b[39;00m TYPE_CHECKING, Any, Iterable\n\u001b[0;32m     27\u001b[0m \u001b[38;5;66;03m# Bokeh imports\u001b[39;00m\n\u001b[1;32m---> 28\u001b[0m \u001b[38;5;28;01mfrom\u001b[39;00m \u001b[38;5;21;01m.\u001b[39;00m\u001b[38;5;21;01m.\u001b[39;00m\u001b[38;5;21;01mcore\u001b[39;00m \u001b[38;5;28;01mimport\u001b[39;00m properties \u001b[38;5;28;01mas\u001b[39;00m p\n\u001b[0;32m     29\u001b[0m \u001b[38;5;28;01mfrom\u001b[39;00m \u001b[38;5;21;01m.\u001b[39;00m\u001b[38;5;21;01m.\u001b[39;00m\u001b[38;5;21;01mcore\u001b[39;00m\u001b[38;5;21;01m.\u001b[39;00m\u001b[38;5;21;01mhas_props\u001b[39;00m \u001b[38;5;28;01mimport\u001b[39;00m HasProps, _default_resolver, abstract\n\u001b[0;32m     30\u001b[0m \u001b[38;5;28;01mfrom\u001b[39;00m \u001b[38;5;21;01m.\u001b[39;00m\u001b[38;5;21;01m.\u001b[39;00m\u001b[38;5;21;01mcore\u001b[39;00m\u001b[38;5;21;01m.\u001b[39;00m\u001b[38;5;21;01mproperty\u001b[39;00m\u001b[38;5;21;01m.\u001b[39;00m\u001b[38;5;21;01m_sphinx\u001b[39;00m \u001b[38;5;28;01mimport\u001b[39;00m type_link\n",
      "File \u001b[1;32mf:\\archivos de programa\\python3920\\lib\\site-packages\\bokeh\\core\\properties.py:307\u001b[0m\n\u001b[0;32m    301\u001b[0m \u001b[38;5;66;03m#-----------------------------------------------------------------------------\u001b[39;00m\n\u001b[0;32m    302\u001b[0m \u001b[38;5;66;03m# General API\u001b[39;00m\n\u001b[0;32m    303\u001b[0m \u001b[38;5;66;03m#-----------------------------------------------------------------------------\u001b[39;00m\n\u001b[0;32m    305\u001b[0m \u001b[38;5;28;01mfrom\u001b[39;00m \u001b[38;5;21;01m.\u001b[39;00m\u001b[38;5;21;01mproperty\u001b[39;00m\u001b[38;5;21;01m.\u001b[39;00m\u001b[38;5;21;01malias\u001b[39;00m \u001b[38;5;28;01mimport\u001b[39;00m Alias, DeprecatedAlias\n\u001b[1;32m--> 307\u001b[0m \u001b[38;5;28;01mfrom\u001b[39;00m \u001b[38;5;21;01m.\u001b[39;00m\u001b[38;5;21;01mproperty\u001b[39;00m\u001b[38;5;21;01m.\u001b[39;00m\u001b[38;5;21;01maliases\u001b[39;00m \u001b[38;5;28;01mimport\u001b[39;00m CoordinateLike\n\u001b[0;32m    309\u001b[0m \u001b[38;5;28;01mfrom\u001b[39;00m \u001b[38;5;21;01m.\u001b[39;00m\u001b[38;5;21;01mproperty\u001b[39;00m\u001b[38;5;21;01m.\u001b[39;00m\u001b[38;5;21;01many\u001b[39;00m \u001b[38;5;28;01mimport\u001b[39;00m Any\n\u001b[0;32m    310\u001b[0m \u001b[38;5;28;01mfrom\u001b[39;00m \u001b[38;5;21;01m.\u001b[39;00m\u001b[38;5;21;01mproperty\u001b[39;00m\u001b[38;5;21;01m.\u001b[39;00m\u001b[38;5;21;01many\u001b[39;00m \u001b[38;5;28;01mimport\u001b[39;00m AnyRef\n",
      "File \u001b[1;32mf:\\archivos de programa\\python3920\\lib\\site-packages\\bokeh\\core\\property\\aliases.py:26\u001b[0m\n\u001b[0;32m     24\u001b[0m \u001b[38;5;28;01mfrom\u001b[39;00m \u001b[38;5;21;01m.\u001b[39;00m\u001b[38;5;21;01mdatetime\u001b[39;00m \u001b[38;5;28;01mimport\u001b[39;00m Datetime\n\u001b[0;32m     25\u001b[0m \u001b[38;5;28;01mfrom\u001b[39;00m \u001b[38;5;21;01m.\u001b[39;00m\u001b[38;5;21;01meither\u001b[39;00m \u001b[38;5;28;01mimport\u001b[39;00m Either\n\u001b[1;32m---> 26\u001b[0m \u001b[38;5;28;01mfrom\u001b[39;00m \u001b[38;5;21;01m.\u001b[39;00m\u001b[38;5;21;01mfactors\u001b[39;00m \u001b[38;5;28;01mimport\u001b[39;00m Factor\n\u001b[0;32m     27\u001b[0m \u001b[38;5;28;01mfrom\u001b[39;00m \u001b[38;5;21;01m.\u001b[39;00m\u001b[38;5;21;01mprimitive\u001b[39;00m \u001b[38;5;28;01mimport\u001b[39;00m Float\n\u001b[0;32m     29\u001b[0m \u001b[38;5;66;03m#-----------------------------------------------------------------------------\u001b[39;00m\n\u001b[0;32m     30\u001b[0m \u001b[38;5;66;03m# Globals and constants\u001b[39;00m\n\u001b[0;32m     31\u001b[0m \u001b[38;5;66;03m#-----------------------------------------------------------------------------\u001b[39;00m\n",
      "File \u001b[1;32mf:\\archivos de programa\\python3920\\lib\\site-packages\\bokeh\\core\\property\\factors.py:26\u001b[0m\n\u001b[0;32m     24\u001b[0m \u001b[38;5;66;03m# Bokeh imports\u001b[39;00m\n\u001b[0;32m     25\u001b[0m \u001b[38;5;28;01mfrom\u001b[39;00m \u001b[38;5;21;01m.\u001b[39;00m\u001b[38;5;21;01mbases\u001b[39;00m \u001b[38;5;28;01mimport\u001b[39;00m Init, SingleParameterizedProperty\n\u001b[1;32m---> 26\u001b[0m \u001b[38;5;28;01mfrom\u001b[39;00m \u001b[38;5;21;01m.\u001b[39;00m\u001b[38;5;21;01mcontainer\u001b[39;00m \u001b[38;5;28;01mimport\u001b[39;00m Seq, Tuple\n\u001b[0;32m     27\u001b[0m \u001b[38;5;28;01mfrom\u001b[39;00m \u001b[38;5;21;01m.\u001b[39;00m\u001b[38;5;21;01meither\u001b[39;00m \u001b[38;5;28;01mimport\u001b[39;00m Either\n\u001b[0;32m     28\u001b[0m \u001b[38;5;28;01mfrom\u001b[39;00m \u001b[38;5;21;01m.\u001b[39;00m\u001b[38;5;21;01mprimitive\u001b[39;00m \u001b[38;5;28;01mimport\u001b[39;00m String\n",
      "File \u001b[1;32mf:\\archivos de programa\\python3920\\lib\\site-packages\\bokeh\\core\\property\\container.py:43\u001b[0m\n\u001b[0;32m     35\u001b[0m \u001b[38;5;28;01mfrom\u001b[39;00m \u001b[38;5;21;01m.\u001b[39;00m\u001b[38;5;21;01mbases\u001b[39;00m \u001b[38;5;28;01mimport\u001b[39;00m (\n\u001b[0;32m     36\u001b[0m     ContainerProperty,\n\u001b[0;32m     37\u001b[0m     Init,\n\u001b[1;32m   (...)\u001b[0m\n\u001b[0;32m     40\u001b[0m     TypeOrInst,\n\u001b[0;32m     41\u001b[0m )\n\u001b[0;32m     42\u001b[0m \u001b[38;5;28;01mfrom\u001b[39;00m \u001b[38;5;21;01m.\u001b[39;00m\u001b[38;5;21;01mdescriptors\u001b[39;00m \u001b[38;5;28;01mimport\u001b[39;00m ColumnDataPropertyDescriptor\n\u001b[1;32m---> 43\u001b[0m \u001b[38;5;28;01mfrom\u001b[39;00m \u001b[38;5;21;01m.\u001b[39;00m\u001b[38;5;21;01menum\u001b[39;00m \u001b[38;5;28;01mimport\u001b[39;00m Enum\n\u001b[0;32m     44\u001b[0m \u001b[38;5;28;01mfrom\u001b[39;00m \u001b[38;5;21;01m.\u001b[39;00m\u001b[38;5;21;01mnumeric\u001b[39;00m \u001b[38;5;28;01mimport\u001b[39;00m Int\n\u001b[0;32m     45\u001b[0m \u001b[38;5;28;01mfrom\u001b[39;00m \u001b[38;5;21;01m.\u001b[39;00m\u001b[38;5;21;01msingletons\u001b[39;00m \u001b[38;5;28;01mimport\u001b[39;00m Intrinsic, Undefined\n",
      "File \u001b[1;32mf:\\archivos de programa\\python3920\\lib\\site-packages\\bokeh\\core\\property\\enum.py:33\u001b[0m\n\u001b[0;32m     31\u001b[0m \u001b[38;5;66;03m# Bokeh imports\u001b[39;00m\n\u001b[0;32m     32\u001b[0m \u001b[38;5;28;01mfrom\u001b[39;00m \u001b[38;5;21;01m.\u001b[39;00m\u001b[38;5;21;01m.\u001b[39;00m\u001b[38;5;21;01m.\u001b[39;00m\u001b[38;5;21;01mutil\u001b[39;00m\u001b[38;5;21;01m.\u001b[39;00m\u001b[38;5;21;01mstrings\u001b[39;00m \u001b[38;5;28;01mimport\u001b[39;00m nice_join\n\u001b[1;32m---> 33\u001b[0m \u001b[38;5;28;01mfrom\u001b[39;00m \u001b[38;5;21;01m.\u001b[39;00m\u001b[38;5;21;01m.\u001b[39;00m \u001b[38;5;28;01mimport\u001b[39;00m enums\n\u001b[0;32m     34\u001b[0m \u001b[38;5;28;01mfrom\u001b[39;00m \u001b[38;5;21;01m.\u001b[39;00m\u001b[38;5;21;01m_sphinx\u001b[39;00m \u001b[38;5;28;01mimport\u001b[39;00m model_link, property_link, register_type_link\n\u001b[0;32m     35\u001b[0m \u001b[38;5;28;01mfrom\u001b[39;00m \u001b[38;5;21;01m.\u001b[39;00m\u001b[38;5;21;01mbases\u001b[39;00m \u001b[38;5;28;01mimport\u001b[39;00m Init\n",
      "File \u001b[1;32mf:\\archivos de programa\\python3920\\lib\\site-packages\\bokeh\\core\\enums.py:475\u001b[0m\n\u001b[0;32m    473\u001b[0m \u001b[38;5;66;03m#: Selection modes\u001b[39;00m\n\u001b[0;32m    474\u001b[0m SelectionModeType \u001b[38;5;241m=\u001b[39m Literal[RegionSelectionModeType, \u001b[38;5;124m\"\u001b[39m\u001b[38;5;124mtoggle\u001b[39m\u001b[38;5;124m\"\u001b[39m]\n\u001b[1;32m--> 475\u001b[0m SelectionMode \u001b[38;5;241m=\u001b[39m \u001b[43menumeration\u001b[49m\u001b[43m(\u001b[49m\u001b[43mSelectionModeType\u001b[49m\u001b[43m)\u001b[49m\n\u001b[0;32m    477\u001b[0m \u001b[38;5;66;03m#: Sizing mode policies\u001b[39;00m\n\u001b[0;32m    478\u001b[0m SizingModeType \u001b[38;5;241m=\u001b[39m Literal[\u001b[38;5;124m\"\u001b[39m\u001b[38;5;124mstretch_width\u001b[39m\u001b[38;5;124m\"\u001b[39m, \u001b[38;5;124m\"\u001b[39m\u001b[38;5;124mstretch_height\u001b[39m\u001b[38;5;124m\"\u001b[39m, \u001b[38;5;124m\"\u001b[39m\u001b[38;5;124mstretch_both\u001b[39m\u001b[38;5;124m\"\u001b[39m, \u001b[38;5;124m\"\u001b[39m\u001b[38;5;124mscale_width\u001b[39m\u001b[38;5;124m\"\u001b[39m, \u001b[38;5;124m\"\u001b[39m\u001b[38;5;124mscale_height\u001b[39m\u001b[38;5;124m\"\u001b[39m, \u001b[38;5;124m\"\u001b[39m\u001b[38;5;124mscale_both\u001b[39m\u001b[38;5;124m\"\u001b[39m, \u001b[38;5;124m\"\u001b[39m\u001b[38;5;124mfixed\u001b[39m\u001b[38;5;124m\"\u001b[39m, \u001b[38;5;124m\"\u001b[39m\u001b[38;5;124minherit\u001b[39m\u001b[38;5;124m\"\u001b[39m]\n",
      "File \u001b[1;32mf:\\archivos de programa\\python3920\\lib\\site-packages\\bokeh\\core\\enums.py:238\u001b[0m, in \u001b[0;36menumeration\u001b[1;34m(case_sensitive, quote, *values)\u001b[0m\n\u001b[0;32m    235\u001b[0m     values \u001b[38;5;241m=\u001b[39m get_args(values[\u001b[38;5;241m0\u001b[39m])\n\u001b[0;32m    237\u001b[0m \u001b[38;5;28;01mif\u001b[39;00m \u001b[38;5;129;01mnot\u001b[39;00m (values \u001b[38;5;129;01mand\u001b[39;00m \u001b[38;5;28mall\u001b[39m(\u001b[38;5;28misinstance\u001b[39m(value, \u001b[38;5;28mstr\u001b[39m) \u001b[38;5;129;01mand\u001b[39;00m value \u001b[38;5;28;01mfor\u001b[39;00m value \u001b[38;5;129;01min\u001b[39;00m values)):\n\u001b[1;32m--> 238\u001b[0m     \u001b[38;5;28;01mraise\u001b[39;00m \u001b[38;5;167;01mValueError\u001b[39;00m(\u001b[38;5;124mf\u001b[39m\u001b[38;5;124m\"\u001b[39m\u001b[38;5;124mexpected a non-empty sequence of strings, got \u001b[39m\u001b[38;5;132;01m{\u001b[39;00mnice_join(values)\u001b[38;5;132;01m}\u001b[39;00m\u001b[38;5;124m\"\u001b[39m)\n\u001b[0;32m    240\u001b[0m \u001b[38;5;28;01mif\u001b[39;00m \u001b[38;5;28mlen\u001b[39m(values) \u001b[38;5;241m!=\u001b[39m \u001b[38;5;28mlen\u001b[39m(\u001b[38;5;28mset\u001b[39m(values)):\n\u001b[0;32m    241\u001b[0m     \u001b[38;5;28;01mraise\u001b[39;00m \u001b[38;5;167;01mValueError\u001b[39;00m(\u001b[38;5;124mf\u001b[39m\u001b[38;5;124m\"\u001b[39m\u001b[38;5;124menumeration items must be unique, got \u001b[39m\u001b[38;5;132;01m{\u001b[39;00mnice_join(values)\u001b[38;5;132;01m}\u001b[39;00m\u001b[38;5;124m\"\u001b[39m)\n",
      "\u001b[1;31mValueError\u001b[0m: expected a non-empty sequence of strings, got typing.Literal['replace', 'append', 'intersect', 'subtract', 'xor'] or toggle"
     ]
    }
   ],
   "source": [
    "# Importing necessary libraries/modules; requires to be executed once for every session\n",
    "import numpy as np\n",
    "import matplotlib.pyplot as plt\n",
    "import os\n",
    "from random import shuffle\n",
    "import re\n",
    "import nltk\n",
    "\n",
    "from bokeh.models import ColumnDataSource, LabelSet\n",
    "from bokeh.plotting import figure, show, output_file\n",
    "from bokeh.io import output_notebook\n",
    "output_notebook()\n",
    "nltk.download('punkt')\n",
    "\n",
    "!pip install wordcloud\n",
    "from wordcloud import WordCloud"
   ]
  },
  {
   "cell_type": "code",
   "execution_count": null,
   "metadata": {
    "id": "ofHeuGejaZHs"
   },
   "outputs": [],
   "source": [
    "# Here we install nltk. You only have to execute this cell once!\n",
    "try:\n",
    "    import nltk\n",
    "except:\n",
    "    import sys\n",
    "    !{sys.executable} -m pip install nltk+\n",
    "    import nltk\n",
    "    nltk.download()"
   ]
  },
  {
   "cell_type": "markdown",
   "metadata": {
    "id": "Haav4K7YaBti"
   },
   "source": [
    "### Part 0: Download the TED dataset"
   ]
  },
  {
   "cell_type": "markdown",
   "metadata": {
    "id": "TXCrpUdjcvmM"
   },
   "source": [
    "For this practical exercise, we need a large amount of text data. We will use the TED database, which are the transcripts of Ted Talks. The next cells will download everything you need, this might take a while as the dataset is 75MB large."
   ]
  },
  {
   "cell_type": "code",
   "execution_count": null,
   "metadata": {
    "id": "stf464BBaBtj"
   },
   "outputs": [],
   "source": [
    "import zipfile\n",
    "import lxml.etree"
   ]
  },
  {
   "cell_type": "code",
   "execution_count": null,
   "metadata": {
    "colab": {
     "base_uri": "https://localhost:8080/",
     "height": 38
    },
    "id": "91T_rkPbaBtn",
    "outputId": "932fa01c-1e32-4705-f79b-2915415962c7"
   },
   "outputs": [
    {
     "data": {
      "text/html": [
       "\n",
       "     <input type=\"file\" id=\"files-aa476c1c-a597-4481-8891-e59e5e046672\" name=\"files[]\" multiple disabled\n",
       "        style=\"border:none\" />\n",
       "     <output id=\"result-aa476c1c-a597-4481-8891-e59e5e046672\">\n",
       "      Upload widget is only available when the cell has been executed in the\n",
       "      current browser session. Please rerun this cell to enable.\n",
       "      </output>\n",
       "      <script>// Copyright 2017 Google LLC\n",
       "//\n",
       "// Licensed under the Apache License, Version 2.0 (the \"License\");\n",
       "// you may not use this file except in compliance with the License.\n",
       "// You may obtain a copy of the License at\n",
       "//\n",
       "//      http://www.apache.org/licenses/LICENSE-2.0\n",
       "//\n",
       "// Unless required by applicable law or agreed to in writing, software\n",
       "// distributed under the License is distributed on an \"AS IS\" BASIS,\n",
       "// WITHOUT WARRANTIES OR CONDITIONS OF ANY KIND, either express or implied.\n",
       "// See the License for the specific language governing permissions and\n",
       "// limitations under the License.\n",
       "\n",
       "/**\n",
       " * @fileoverview Helpers for google.colab Python module.\n",
       " */\n",
       "(function(scope) {\n",
       "function span(text, styleAttributes = {}) {\n",
       "  const element = document.createElement('span');\n",
       "  element.textContent = text;\n",
       "  for (const key of Object.keys(styleAttributes)) {\n",
       "    element.style[key] = styleAttributes[key];\n",
       "  }\n",
       "  return element;\n",
       "}\n",
       "\n",
       "// Max number of bytes which will be uploaded at a time.\n",
       "const MAX_PAYLOAD_SIZE = 100 * 1024;\n",
       "\n",
       "function _uploadFiles(inputId, outputId) {\n",
       "  const steps = uploadFilesStep(inputId, outputId);\n",
       "  const outputElement = document.getElementById(outputId);\n",
       "  // Cache steps on the outputElement to make it available for the next call\n",
       "  // to uploadFilesContinue from Python.\n",
       "  outputElement.steps = steps;\n",
       "\n",
       "  return _uploadFilesContinue(outputId);\n",
       "}\n",
       "\n",
       "// This is roughly an async generator (not supported in the browser yet),\n",
       "// where there are multiple asynchronous steps and the Python side is going\n",
       "// to poll for completion of each step.\n",
       "// This uses a Promise to block the python side on completion of each step,\n",
       "// then passes the result of the previous step as the input to the next step.\n",
       "function _uploadFilesContinue(outputId) {\n",
       "  const outputElement = document.getElementById(outputId);\n",
       "  const steps = outputElement.steps;\n",
       "\n",
       "  const next = steps.next(outputElement.lastPromiseValue);\n",
       "  return Promise.resolve(next.value.promise).then((value) => {\n",
       "    // Cache the last promise value to make it available to the next\n",
       "    // step of the generator.\n",
       "    outputElement.lastPromiseValue = value;\n",
       "    return next.value.response;\n",
       "  });\n",
       "}\n",
       "\n",
       "/**\n",
       " * Generator function which is called between each async step of the upload\n",
       " * process.\n",
       " * @param {string} inputId Element ID of the input file picker element.\n",
       " * @param {string} outputId Element ID of the output display.\n",
       " * @return {!Iterable<!Object>} Iterable of next steps.\n",
       " */\n",
       "function* uploadFilesStep(inputId, outputId) {\n",
       "  const inputElement = document.getElementById(inputId);\n",
       "  inputElement.disabled = false;\n",
       "\n",
       "  const outputElement = document.getElementById(outputId);\n",
       "  outputElement.innerHTML = '';\n",
       "\n",
       "  const pickedPromise = new Promise((resolve) => {\n",
       "    inputElement.addEventListener('change', (e) => {\n",
       "      resolve(e.target.files);\n",
       "    });\n",
       "  });\n",
       "\n",
       "  const cancel = document.createElement('button');\n",
       "  inputElement.parentElement.appendChild(cancel);\n",
       "  cancel.textContent = 'Cancel upload';\n",
       "  const cancelPromise = new Promise((resolve) => {\n",
       "    cancel.onclick = () => {\n",
       "      resolve(null);\n",
       "    };\n",
       "  });\n",
       "\n",
       "  // Wait for the user to pick the files.\n",
       "  const files = yield {\n",
       "    promise: Promise.race([pickedPromise, cancelPromise]),\n",
       "    response: {\n",
       "      action: 'starting',\n",
       "    }\n",
       "  };\n",
       "\n",
       "  cancel.remove();\n",
       "\n",
       "  // Disable the input element since further picks are not allowed.\n",
       "  inputElement.disabled = true;\n",
       "\n",
       "  if (!files) {\n",
       "    return {\n",
       "      response: {\n",
       "        action: 'complete',\n",
       "      }\n",
       "    };\n",
       "  }\n",
       "\n",
       "  for (const file of files) {\n",
       "    const li = document.createElement('li');\n",
       "    li.append(span(file.name, {fontWeight: 'bold'}));\n",
       "    li.append(span(\n",
       "        `(${file.type || 'n/a'}) - ${file.size} bytes, ` +\n",
       "        `last modified: ${\n",
       "            file.lastModifiedDate ? file.lastModifiedDate.toLocaleDateString() :\n",
       "                                    'n/a'} - `));\n",
       "    const percent = span('0% done');\n",
       "    li.appendChild(percent);\n",
       "\n",
       "    outputElement.appendChild(li);\n",
       "\n",
       "    const fileDataPromise = new Promise((resolve) => {\n",
       "      const reader = new FileReader();\n",
       "      reader.onload = (e) => {\n",
       "        resolve(e.target.result);\n",
       "      };\n",
       "      reader.readAsArrayBuffer(file);\n",
       "    });\n",
       "    // Wait for the data to be ready.\n",
       "    let fileData = yield {\n",
       "      promise: fileDataPromise,\n",
       "      response: {\n",
       "        action: 'continue',\n",
       "      }\n",
       "    };\n",
       "\n",
       "    // Use a chunked sending to avoid message size limits. See b/62115660.\n",
       "    let position = 0;\n",
       "    do {\n",
       "      const length = Math.min(fileData.byteLength - position, MAX_PAYLOAD_SIZE);\n",
       "      const chunk = new Uint8Array(fileData, position, length);\n",
       "      position += length;\n",
       "\n",
       "      const base64 = btoa(String.fromCharCode.apply(null, chunk));\n",
       "      yield {\n",
       "        response: {\n",
       "          action: 'append',\n",
       "          file: file.name,\n",
       "          data: base64,\n",
       "        },\n",
       "      };\n",
       "\n",
       "      let percentDone = fileData.byteLength === 0 ?\n",
       "          100 :\n",
       "          Math.round((position / fileData.byteLength) * 100);\n",
       "      percent.textContent = `${percentDone}% done`;\n",
       "\n",
       "    } while (position < fileData.byteLength);\n",
       "  }\n",
       "\n",
       "  // All done.\n",
       "  yield {\n",
       "    response: {\n",
       "      action: 'complete',\n",
       "    }\n",
       "  };\n",
       "}\n",
       "\n",
       "scope.google = scope.google || {};\n",
       "scope.google.colab = scope.google.colab || {};\n",
       "scope.google.colab._files = {\n",
       "  _uploadFiles,\n",
       "  _uploadFilesContinue,\n",
       "};\n",
       "})(self);\n",
       "</script> "
      ],
      "text/plain": [
       "<IPython.core.display.HTML object>"
      ]
     },
     "metadata": {},
     "output_type": "display_data"
    }
   ],
   "source": [
    "# Upload the dataset if it's not already there: this may take a minute..\n",
    "if not os.path.isfile('ted_en-20160408.zip'):\n",
    "  from google.colab import files\n",
    "  # select the file \"ted_en-20160408.zip\" from your local drive here\n",
    "  uploaded = files.upload()"
   ]
  },
  {
   "cell_type": "code",
   "execution_count": null,
   "metadata": {
    "id": "0oWf1JkvaBtr"
   },
   "outputs": [],
   "source": [
    "# For now, we're only interested in the subtitle text, so let's extract that from the XML:\n",
    "with zipfile.ZipFile('ted_en-20160408.zip', 'r') as z:\n",
    "    doc = lxml.etree.parse(z.open('ted_en-20160408.xml', 'r'))\n",
    "input_text = '\\n'.join(doc.xpath('//content/text()'))\n",
    "\n",
    "print(type(input_text))"
   ]
  },
  {
   "cell_type": "markdown",
   "metadata": {
    "id": "LNL6FNYQA9QO"
   },
   "source": [
    "To give you a little bit of an idea about the structure of the dataset, you can open the `xml` file inside the zip folder and have a look at it. The dataset consists of metadata or properties of TedTalks, such as speaker information, language, transcripts, tags, date, and much more.\n",
    "\n",
    "As you can see, the `xml` file has lots of different tags to mark the beginning and end of the particular datapoint. The code cell bellow shows the tags that are inside the `xml` file. As you can already imagine, the tags are used to mark different properties of the data. For this assignment, we are interested in the content/text only, which is the reason for extracting the text from the content tag and from it, create the text data."
   ]
  },
  {
   "cell_type": "code",
   "execution_count": null,
   "metadata": {
    "id": "AcrOfaQfhDVY"
   },
   "outputs": [],
   "source": [
    "# Extract all the tags in the XML\n",
    "tags = [element.tag for element in doc.iter()]\n",
    "\n",
    "# Get unique tags using a set\n",
    "unique_tags = set(tags)\n",
    "\n",
    "# Print the unique tags\n",
    "for tag in unique_tags:\n",
    "    print(tag)\n",
    "\n",
    "# Delete the variable doc to save space as we have alreay extracted the necessary data we need.\n",
    "del doc"
   ]
  },
  {
   "cell_type": "markdown",
   "metadata": {
    "id": "G9UVfpExaBtu"
   },
   "source": [
    "### Part 1: Preprocessing\n",
    "\n",
    "Although language oftentimes follows strict rules and structures, text datasets in practice are often noisy. Before we can use our text data, we therefore need to clean it. This process is called *preprocessing*. If we don't do this, the data may be inconsistent and therefore more difficult to analyze and work with. You may ask yourself, what exactly do we need to clean, where exactly would we expect inconsistencies? Take a moment and think about it potential hickups in the raw data. What we need to do, is to preprocess the text and bring it into a clean and consistent format, allowing further analyzing steps."
   ]
  },
  {
   "cell_type": "markdown",
   "metadata": {
    "id": "eKWHxHG7bkWa"
   },
   "source": [
    "<h4>Exercise 1.1 (3 Points)</h4>\n",
    "\n"
   ]
  },
  {
   "cell_type": "markdown",
   "metadata": {
    "id": "Lf3LEeuDVcs4"
   },
   "source": [
    "The following part of the code shows a chunk of text from our ted text dataset. Have a look and try to identify **three** issues you can think of that can create a problem for text analysis, next to the one which is already provided. When giving your answer, we ask you to also mention **why** the issues could be problematic (similar to the example given). Each correct answer (naming + explaining the problem) will give 1 point."
   ]
  },
  {
   "cell_type": "code",
   "execution_count": null,
   "metadata": {
    "id": "yGpx6RFzaBtv"
   },
   "outputs": [],
   "source": [
    "# Have a look at the output of this code, to see some text examples.\n",
    "i = input_text.find(\"Hyowon Gweon: See this?\")\n",
    "print(input_text[i:i+300])\n",
    "print()\n",
    "\n",
    "i = input_text.find(\"You will earn\")\n",
    "print(input_text[i:i+45])"
   ]
  },
  {
   "cell_type": "markdown",
   "metadata": {
    "id": "33t3GOGqcvmZ"
   },
   "source": [
    "<b>Your Solution goes here:</b>\n",
    "<br>- Speakers' names: embeddings for names will dominate the embedding space unnecessarily.\n",
    "<br>-\n",
    "<br>-\n",
    "<br>-"
   ]
  },
  {
   "cell_type": "markdown",
   "metadata": {
    "id": "3F5MFEDWt-WN"
   },
   "source": [
    "<h4>Exercise 1.2 (9 Points)</h4>\n",
    "\n",
    "Next we want to create a preprocessing pipeline to later clean the entire dataset in one go. The pipeline takes `input_text` as input and should provide a cleaned and ready-to-use text data called `cleaned_text`.\n",
    "\n",
    "Your task is to implement this pipeline with **three** functions that each take care of **one** of the **three** issues you listed in exercise 1.1.\n",
    "\n",
    "Some hints about the pipeline are given as well as the code for the example from 1.1."
   ]
  },
  {
   "cell_type": "code",
   "execution_count": null,
   "metadata": {
    "id": "Ow4UqreOvXH_"
   },
   "outputs": [],
   "source": [
    "def remove_speaker(text):\n",
    "  ''' takes the text as an input and removes the name of the speaker as output '''\n",
    "\n",
    "  input_text = text\n",
    "\n",
    "  X = []\n",
    "  for line in input_text.split('\\n'):\n",
    "      #print(line)\n",
    "      m = re.match(r'^(?:(?P<precolon>[^:]{,20}):)?(?P<postcolon>.*)$', line)\n",
    "      X.extend(m.groupdict()['postcolon'])\n",
    "  without_speaker=\"\".join(X)\n",
    "  return without_speaker\n",
    "\n",
    "## To Do ##\n",
    "# implement your 3 functions.\n",
    "# Make the name of the functions sensible.\n",
    "\n",
    "# def ...\n",
    "\n",
    "# def ...\n",
    "\n",
    "# def ...\n",
    "\n",
    "\n",
    "\n",
    "def text_cleaned(input_text):\n",
    "\n",
    "  ''' takes the raw text as input. Runs the text through cleaning functions.\n",
    "       outputs a clean an preprocessed text for further analysis. '''\n",
    "\n",
    "  ## To Do ##\n",
    "  # include your functions here - you can order the pipeline however you want.\n",
    "  text_no_speaker = remove_speaker(input_text)\n",
    "\n",
    "  return cleaned_text\n",
    "\n",
    "input_text_clean = text_cleaned(text)"
   ]
  },
  {
   "cell_type": "markdown",
   "metadata": {
    "id": "sX5lFA4XijPm"
   },
   "source": [
    "<h4>Exercise 1.3 (6 Points)</h4>\n",
    "\n",
    "To continue with building our embedding, we need to tokenize every single word (so that the model has individual tokens to process). Therefore we first need to split the text into sentences and after that into words.\n",
    "Try it yourselves or use the NLTK-Tools build for this (https://www.kite.com/python/docs/nltk.word_tokenize + https://www.kite.com/python/docs/nltk.sent_tokenize).\n",
    "To make it easier, we should also delete every character that is not a letter. Additionally, we could decrease the size of our vocabulary. A way to do this is by converting capital characters to lower case characters (but it also has some drawbacks - more on this in exercise 1.4).<br>\n",
    "\n",
    "Split your text into sentences and save them in the array `sentences_strings_ted`.\n",
    "Save one variabale `tokens` with all the tokens in the text and one array named `sentences_ted` that contains an array for every sentence, with all the tokenized words of that sentence.<br><br>\n",
    "Example:<br>\n",
    "If the text looks like this: \"I love cake. You have to be honest, you love it too!\", the variables should look like:<br>\n",
    "sentences_strings_ted=['I love cake.', 'You have to be honest, you love it too!']<br>\n",
    "sentences_ted=[['i', 'love', 'cake'], ['you', 'have', 'to', 'be', 'honest', 'you', 'love', 'it', 'too']]<br>\n",
    "tokens=['i', 'love', 'cake', 'you', 'have', 'to', 'be', 'honest', 'you', 'love', 'it', 'too']<br><br>\n",
    "\n",
    "IMPORTANT: Apply this to `input_text_clean`.<br><br>\n",
    "\n",
    "\n",
    " **[Hint:]** use pickle file (.pkl) to dump and load the variables like `sentences_strings_ted`, `tokens`, `sentences_ted` to continue where you left, when you comeback next time. It will save a lot of time/effort."
   ]
  },
  {
   "cell_type": "code",
   "execution_count": null,
   "metadata": {
    "id": "_zAfwo7Dcvml"
   },
   "outputs": [],
   "source": [
    "# Your implementation goes here"
   ]
  },
  {
   "cell_type": "markdown",
   "metadata": {
    "id": "sUiFC0I5j31i"
   },
   "source": [
    "<h4>Exercise 1.4 (1 Point)</h4>"
   ]
  },
  {
   "cell_type": "markdown",
   "metadata": {
    "id": "7OICTv5Ybj9Q"
   },
   "source": [
    "The good side of converting all capital letters is, that we reduce the volume of the vocabulary. Thereby we dont differentiate between the the words \"today\" and \"Today\". But there is a caveat. Can you think of any downside to this process?"
   ]
  },
  {
   "cell_type": "markdown",
   "metadata": {
    "id": "Gk6zmQjNcvmo"
   },
   "source": [
    "**Your answer goes here:**"
   ]
  },
  {
   "cell_type": "markdown",
   "metadata": {
    "id": "e_8Pg_RQYglD"
   },
   "source": [
    "Let's quickly see how large our vocabulary turned out to be!"
   ]
  },
  {
   "cell_type": "code",
   "execution_count": null,
   "metadata": {
    "id": "ooe1gfSZaBuG"
   },
   "outputs": [],
   "source": [
    "len(sentences_ted)"
   ]
  },
  {
   "cell_type": "markdown",
   "metadata": {
    "id": "SCjkAGHjaBuN"
   },
   "source": [
    "### Part 2: Word Frequencies"
   ]
  },
  {
   "cell_type": "markdown",
   "metadata": {
    "id": "hvLMH0iXaBuO"
   },
   "source": [
    "<h4>Exercise 2.1 (2 Points)</h4>"
   ]
  },
  {
   "cell_type": "markdown",
   "metadata": {
    "id": "Pm9092DdYskT"
   },
   "source": [
    "Your next task will be to store the counts of the top 1,000 most frequent words in a list called `counts_ted_top1000` ! There are multiple ways to do this. You can have a look at the Counter-Function (https://docs.python.org/2/library/collections.html) or the FreqDist-Function (https://www.kite.com/python/docs/nltk.FreqDist). If you don't trust any of these, you can of course build your own function. In the end we want an array with tuples of the structure:\n",
    "\n",
    "counts_ted_top1000 =  [(WordA,FrequencyA),(WordB,FrequencyB)]"
   ]
  },
  {
   "cell_type": "code",
   "execution_count": null,
   "metadata": {
    "id": "LcQzY8iWaBuP"
   },
   "outputs": [],
   "source": [
    "# Your code goes here"
   ]
  },
  {
   "cell_type": "markdown",
   "metadata": {
    "id": "hti5NFdGaBuX"
   },
   "source": [
    "The following code is going to plot a histogram with the counts of the  top-30 words as bars."
   ]
  },
  {
   "cell_type": "code",
   "execution_count": null,
   "metadata": {
    "id": "M5BMmYmhcvmt"
   },
   "outputs": [],
   "source": [
    "mostfreqn=30 # Here we define how many of them we want to see in the diagramm\n",
    "frequency=[y for (x,y) in counts_ted_top1000][:mostfreqn]\n",
    "word=[x for (x,y) in counts_ted_top1000][:mostfreqn]\n",
    "indices = np.arange(len(counts_ted_top1000[:mostfreqn]))\n",
    "plt.bar(indices, frequency, color='r')\n",
    "plt.xticks(indices, word, rotation='vertical')\n",
    "plt.tight_layout()\n",
    "plt.show()"
   ]
  },
  {
   "cell_type": "markdown",
   "metadata": {
    "id": "WssgORGecvmu"
   },
   "source": [
    "Exercise: You can clearly see, that many of the most common words are redundant and not very meaningful. These types of words are called **stopwords**. What problems can stop words create in the NLP and why it is important to remove them?"
   ]
  },
  {
   "cell_type": "markdown",
   "metadata": {
    "id": "mQ3Fvsteb-Hi"
   },
   "source": [
    "**Your answer goes here:**"
   ]
  },
  {
   "cell_type": "markdown",
   "metadata": {
    "id": "8r19KPrAH4iM"
   },
   "source": [
    "<h4>Exercise 2.2 (2 Points)</h4>"
   ]
  },
  {
   "cell_type": "markdown",
   "metadata": {
    "id": "imgTrP0jcCXz"
   },
   "source": [
    "Now, write a function that removes the stopwords from the variable `counts_ted_top1000` and save it as `counts_ted_top1000_no_stopword`. Use the code for visualization and spot the differences.\n",
    "\n",
    "The structure in the end should look like this: counts_ted_top1000_no_stopword = [(WordA,FrequencyA),(WordB,FrequencyB)]"
   ]
  },
  {
   "cell_type": "code",
   "execution_count": null,
   "metadata": {
    "id": "x7dpvwqyPuzS"
   },
   "outputs": [],
   "source": [
    "# Your code goes here"
   ]
  },
  {
   "cell_type": "code",
   "execution_count": null,
   "metadata": {
    "id": "tSo2313hK8n2"
   },
   "outputs": [],
   "source": [
    "mostfreqn=30 # Here we define how many of them we want to see in the diagramm\n",
    "frequency=[y for (x,y) in counts_ted_top1000_no_stopword][:mostfreqn]\n",
    "word=[x for (x,y) in counts_ted_top1000_no_stopword][:mostfreqn]\n",
    "indices = np.arange(len(counts_ted_top1000_no_stopword[:mostfreqn]))\n",
    "plt.bar(indices, frequency, color='r')\n",
    "plt.xticks(indices, word, rotation='vertical')\n",
    "plt.tight_layout()\n",
    "plt.show()"
   ]
  },
  {
   "cell_type": "markdown",
   "metadata": {
    "id": "ntM-fNW1cVPj"
   },
   "source": [
    "#### Wordcloud Visualization"
   ]
  },
  {
   "cell_type": "markdown",
   "metadata": {
    "id": "zp5LcPxWvIRG"
   },
   "source": [
    "The below so-called **wordcloud** shows the most frequent words in a larger font and the less frequent ones in a smaller font size. It's a quick and cool way of visualizing the most frequent words!"
   ]
  },
  {
   "cell_type": "code",
   "execution_count": null,
   "metadata": {
    "id": "W1AucK5tMc0l"
   },
   "outputs": [],
   "source": [
    "# Create a dictionary that maps words to their frequencies\n",
    "counts_ted_top1000_no_stopword = {word: count for word, count in counts_ted_top1000_no_stopword}\n",
    "\n",
    "# Create a WordCloud object\n",
    "wordcloud = WordCloud(width=800, height=400, background_color='white')\n",
    "\n",
    "# Generate the word cloud\n",
    "wordcloud.generate_from_frequencies(counts_ted_top1000_no_stopword)\n",
    "\n",
    "# Display the word cloud using matplotlib\n",
    "plt.figure(figsize=(10, 5))\n",
    "plt.imshow(wordcloud, interpolation='bilinear')\n",
    "plt.axis(\"off\")\n",
    "plt.show()"
   ]
  },
  {
   "cell_type": "markdown",
   "metadata": {
    "id": "2oRdD3e4aBud"
   },
   "source": [
    "### Part 3: Generating the Word Embeddings with Word2Vec"
   ]
  },
  {
   "cell_type": "markdown",
   "metadata": {
    "id": "kp0JGmKWhrNd"
   },
   "source": [
    "Now it is time to run the embedding model. Gensim has an already implemented model that you can use. Using the provided model is enough for the purposes of our notebook. If you want to dive deeper into the topic - this youtube video https://www.youtube.com/watch?v=kKDYtZfriI8 could be a great guidance for you to get started."
   ]
  },
  {
   "cell_type": "code",
   "execution_count": null,
   "metadata": {
    "id": "A_t4-aiTaBue"
   },
   "outputs": [],
   "source": [
    "# This takes a moment.. dont worry :D\n",
    "from gensim.models import Word2Vec\n",
    "\n",
    "model_ted = Word2Vec(sentences_ted)"
   ]
  },
  {
   "cell_type": "markdown",
   "metadata": {
    "id": "KKYd7ZemaBuj"
   },
   "source": [
    "### Part 4: Inspection of our learned representations/embeddings (3 Points)\n"
   ]
  },
  {
   "cell_type": "markdown",
   "metadata": {
    "id": "P7VvU82AaBuj"
   },
   "source": [
    "Now that we have a model that captures the word embeddings, we can use it to explore properties of the words in the text."
   ]
  },
  {
   "cell_type": "markdown",
   "metadata": {
    "id": "QFV06B1xcvm2"
   },
   "source": [
    "First, code a line that looks at the embedding of one individual word/token.  What does the representation of \"house\" look like in the embedding model? You may refer to the following gensim docs for functions, that might help you https://radimrehurek.com/gensim/models/keyedvectors.html). This will give you 1 point."
   ]
  },
  {
   "cell_type": "code",
   "execution_count": null,
   "metadata": {
    "id": "Tec0Q5WBcvm3"
   },
   "outputs": [],
   "source": [
    "# Your solution goes here."
   ]
  },
  {
   "cell_type": "markdown",
   "metadata": {
    "id": "-8yGLeYpcvm6"
   },
   "source": [
    "The next task for you is to output the most similar word to \"town\"? This will also give you 1 point."
   ]
  },
  {
   "cell_type": "code",
   "execution_count": null,
   "metadata": {
    "id": "Bs4MIsdpcvm7"
   },
   "outputs": [],
   "source": [
    "# Your solution goes here."
   ]
  },
  {
   "cell_type": "markdown",
   "metadata": {
    "id": "fCdHf0Sdcvm8"
   },
   "source": [
    "Finally, we want to find out how similar the words \"town\" and \"house\" are. Again: 1 point for this!"
   ]
  },
  {
   "cell_type": "code",
   "execution_count": null,
   "metadata": {
    "id": "3E9opXOTcvm8"
   },
   "outputs": [],
   "source": [
    "# Your solution goes here."
   ]
  },
  {
   "cell_type": "markdown",
   "metadata": {
    "id": "p7I5G-KpqbfH"
   },
   "source": [
    "<h4>Exercise 4.1 (3 Points)</h4>\n"
   ]
  },
  {
   "cell_type": "markdown",
   "metadata": {
    "id": "dgCMx111ej8l"
   },
   "source": [
    "Now that we have generated our embeddings, let's test some classical ideas:\n",
    "implement the following formula. Print out the 10 words, that are most similar to this formula: <br>\n",
    "$King-Man+Woman=???$\n",
    "There are two ways of computing similarity in word embeddings:\n",
    " - https://tedboy.github.io/nlps/generated/generated/gensim.models.Word2Vec.most_similar.html\n",
    " - https://tedboy.github.io/nlps/generated/generated/gensim.models.Word2Vec.most_similar_cosmul.html\n",
    "You should try out both! In this case one of them is better, but both of them are valid methods for computing similarity in the word-space."
   ]
  },
  {
   "cell_type": "code",
   "execution_count": null,
   "metadata": {
    "id": "S0y_5MLlqiMx"
   },
   "outputs": [],
   "source": [
    "# Your implementation goes here."
   ]
  },
  {
   "cell_type": "markdown",
   "metadata": {
    "id": "7XcdY5s-cvnA"
   },
   "source": [
    "Exercise 4.2 (2 Points)"
   ]
  },
  {
   "cell_type": "markdown",
   "metadata": {
    "id": "kejO0Tmze1tq"
   },
   "source": [
    "The expected outcome (Queen) should be one of the top ten most similar words. But there are also a lot of words, that you would not expect. Think about where how these words might be connected to the formula. Take your time and understand why some of the words (luther, mary, dr, president) might be in this list."
   ]
  },
  {
   "cell_type": "markdown",
   "metadata": {
    "id": "RapTRcHce7Ua"
   },
   "source": [
    "**Your answer goes here:**"
   ]
  },
  {
   "cell_type": "markdown",
   "metadata": {
    "id": "TMtpPOVtaBup"
   },
   "source": [
    "#### t-SNE visualization\n",
    "\n",
    "We will use the t-SNE algorithm, given below, for visualization. The so-called t-Distributed Stochastic Neighbor Embedding (t-SNE) is an unsupervised and non-linear machine learning technique. It is commonly used for visualizing high dimensional data (just like our high dimensional vectors). You do not have to understand the code, its purpose is simply to give you an idea of how the data is arranged in high dimensional space."
   ]
  },
  {
   "cell_type": "markdown",
   "metadata": {
    "id": "DLyQ3qoAcvnB"
   },
   "source": [
    "<h4>Exercise 4.3 (2 Points)</h4>"
   ]
  },
  {
   "cell_type": "markdown",
   "metadata": {
    "id": "JpHG2ON9fH2j"
   },
   "source": [
    "To use the t-SNE code below, first put a list of the top 50 words (as **strings**, without **stopwords**) into a variable `words_top_ted`."
   ]
  },
  {
   "cell_type": "code",
   "execution_count": null,
   "metadata": {
    "id": "xXstzIntcvnC"
   },
   "outputs": [],
   "source": [
    "# Your implementation goes here."
   ]
  },
  {
   "cell_type": "markdown",
   "metadata": {
    "id": "RSJ1AAzEcvnC"
   },
   "source": [
    "The following code gets the corresponding vectors from the model, assuming it's called `model_ted`:"
   ]
  },
  {
   "cell_type": "code",
   "execution_count": null,
   "metadata": {
    "id": "0-lLF1lZaBus"
   },
   "outputs": [],
   "source": [
    "# This assumes words_top_ted is a list of strings, the top 250 words\n",
    "words_top_vec_ted = model_ted.wv[words_top_ted]"
   ]
  },
  {
   "cell_type": "markdown",
   "metadata": {
    "id": "7-NxjQVMcvnE"
   },
   "source": [
    "The next few lines are for the t-SNE visualization."
   ]
  },
  {
   "cell_type": "code",
   "execution_count": null,
   "metadata": {
    "id": "HeJF5ut9aBux"
   },
   "outputs": [],
   "source": [
    "from sklearn.manifold import TSNE\n",
    "tsne = TSNE(n_components=2, random_state=0)\n",
    "words_top_ted_tsne = tsne.fit_transform(words_top_vec_ted)"
   ]
  },
  {
   "cell_type": "code",
   "execution_count": null,
   "metadata": {
    "id": "J2VgYLIZaBu2"
   },
   "outputs": [],
   "source": [
    "p = figure(tools=\"pan,wheel_zoom,reset,save\",\n",
    "           toolbar_location=\"above\",\n",
    "           title=\"word2vec T-SNE for most common words\")\n",
    "\n",
    "source = ColumnDataSource(data=dict(x1=words_top_ted_tsne[:,0],\n",
    "                                    x2=words_top_ted_tsne[:,1],\n",
    "                                    names=words_top_ted))\n",
    "\n",
    "p.scatter(x=\"x1\", y=\"x2\", size=8, source=source)\n",
    "\n",
    "labels = LabelSet(x=\"x1\", y=\"x2\", text=\"names\", y_offset=6,\n",
    "                  text_font_size=\"8pt\", text_color=\"#555555\",\n",
    "                  source=source, text_align='center')\n",
    "p.add_layout(labels)\n",
    "\n",
    "show(p)"
   ]
  },
  {
   "cell_type": "markdown",
   "metadata": {
    "id": "qn3osAABfZjQ"
   },
   "source": [
    "That's it. We hope you had fun and learned something in the process :-)"
   ]
  }
 ],
 "metadata": {
  "accelerator": "GPU",
  "anaconda-cloud": {},
  "colab": {
   "gpuType": "T4",
   "provenance": []
  },
  "kernelspec": {
   "display_name": "Python 3 (ipykernel)",
   "language": "python",
   "name": "python3"
  },
  "language_info": {
   "codemirror_mode": {
    "name": "ipython",
    "version": 3
   },
   "file_extension": ".py",
   "mimetype": "text/x-python",
   "name": "python",
   "nbconvert_exporter": "python",
   "pygments_lexer": "ipython3",
   "version": "3.9.0"
  }
 },
 "nbformat": 4,
 "nbformat_minor": 4
}
